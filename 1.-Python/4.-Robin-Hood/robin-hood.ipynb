{
 "cells": [
  {
   "cell_type": "markdown",
   "metadata": {},
   "source": [
    "<img src=\"https://bit.ly/2VnXWr2\" width=\"100\" align=\"left\"/>"
   ]
  },
  {
   "cell_type": "markdown",
   "metadata": {},
   "source": [
    "# Robin Hood\n",
    "Robin Hood has entered a competition to win the archery contest in Sherwood. With his bow and arrows, he needs to shoot on a target and try to hit as close as possible to the center.\n",
    "\n",
    "![](images/arrows.jpg)\n",
    "\n",
    "## Context\n",
    "In this challenge, the landing position of arrows shot by archers in the competition will be represented using 2-dimensional coordinates. \n",
    "\n",
    "In the 2-dimensional space, a point can be defined by a pair of values that correspond to the horizontal coordinate (x) and the vertical coordinate (y). For example, in our case, an arrow that hits the center of the archery target will land in position (0, 0) on the coordinate axes. \n",
    "\n",
    "The space can be divided into 4 zones (quadrants): Q1, Q2, Q3, Q4. If a point is in Q1, both its x coordinate and y coordinate are positive. Any point with a null x or y coordinate is considered to not belong to any quadrant. \n",
    "\n",
    "If you want to know more about the cartesian coordinate system, you can check this [link](https://en.wikipedia.org/wiki/Cartesian_coordinate_system). \n",
    "\n",
    "## Tools\n",
    "You don't necessarily need to use all the tools. Maybe you opt to use some of them or completely different ones, they are given to help you shape the exercise. Programming exercises can be solved in many different ways.\n",
    "* Data structures: **lists, sets, tuples**\n",
    "* Conditional statements: **if-elif-else**\n",
    "* Loop: **while/for**\n",
    "* Minimum (optional sorting)\n",
    "\n",
    "## Tasks\n",
    "Robin Hood has hit the following points:"
   ]
  },
  {
   "cell_type": "code",
   "execution_count": 24,
   "metadata": {},
   "outputs": [],
   "source": [
    "points = [(4, 5), (-0, 2), (4, 7), (1, -3), (3, -2), (4, 5), (3, 2), (5, 7), (-5, 7), (2, 2), (-4, 5), (0, -2),\n",
    "          (-4, 7), (-1, 3), (-3, 2), (-4, -5), (-3, 2), (5, 7), (5, 7), (2, 2), (9, 9), (-8, -9)]"
   ]
  },
  {
   "cell_type": "markdown",
   "metadata": {},
   "source": [
    "#### 1. Robin Hood is famous for hitting an arrow with another arrow. Find the coordinates of the points where an arrow hits another arrow."
   ]
  },
  {
   "cell_type": "code",
   "execution_count": 16,
   "metadata": {},
   "outputs": [
    {
     "name": "stdout",
     "output_type": "stream",
     "text": [
      "[(4, 5), (0, 2), (4, 7), (1, -3), (3, -2), (3, 2), (5, 7), (-5, 7), (2, 2), (-4, 5), (0, -2), (-4, 7), (-1, 3), (-3, 2), (-4, -5), (9, 9), (-8, -9)]\n",
      "{(-3, 2), (4, 5), (5, 7), (2, 2)}\n"
     ]
    }
   ],
   "source": [
    "shots=[]\n",
    "double_shots=[]\n",
    "filtered_points=set(points)\n",
    "#print(filtered_points)\n",
    "for point in points:\n",
    "    #print(point)\n",
    "    if point not in shots:\n",
    "        shots.append(point)\n",
    "    elif point in shots:\n",
    "        double_shots.append(point)\n",
    "print(shots)\n",
    "print(set(double_shots))"
   ]
  },
  {
   "cell_type": "markdown",
   "metadata": {},
   "source": [
    "#### 2. Calculate how many arrows have fallen in each quadrant. \n",
    "**Note**: the arrows that fall in the axis (x=0 or y=0) don't belong to any quadrant."
   ]
  },
  {
   "cell_type": "code",
   "execution_count": 17,
   "metadata": {},
   "outputs": [
    {
     "name": "stdout",
     "output_type": "stream",
     "text": [
      "[(-8, -9), (-5, 7), (-4, -5), (-4, 5), (-4, 7), (-3, 2), (-3, 2), (-1, 3), (0, -2), (0, 2), (1, -3), (2, 2), (2, 2), (3, -2), (3, 2), (4, 5), (4, 5), (4, 7), (5, 7), (5, 7), (5, 7), (9, 9)]\n",
      "Q1: 10, Q2: 6, Q3: 2, Q4: 2\n",
      "Q1: [(2, 2), (2, 2), (3, 2), (4, 5), (4, 5), (4, 7), (5, 7), (5, 7), (5, 7), (9, 9)], Q2: [(-5, 7), (-4, 5), (-4, 7), (-3, 2), (-3, 2), (-1, 3)], Q3: [(-8, -9), (-4, -5)], Q4: [(1, -3), (3, -2)]\n"
     ]
    }
   ],
   "source": [
    "Q1,Q1_list=0,[] #positive/ positive\n",
    "Q2,Q2_list=0,[]#negative/ positive\n",
    "Q3,Q3_list=0,[] #negative/ negative\n",
    "Q4,Q4_list=0,[] #positiv/ negative\n",
    "\n",
    "sort_points=sorted(points)\n",
    "print(sort_points)\n",
    " \n",
    "for point in sort_points:\n",
    "    #print(point)\n",
    "    if point[0]>0:\n",
    "        if point[1]>0:\n",
    "            Q1=Q1+1\n",
    "            Q1_list.append(point)\n",
    "        elif point[1]<0:\n",
    "            Q4=Q4+1\n",
    "            Q4_list.append(point)\n",
    "    elif point[0]<0:\n",
    "        if point[1]>0:\n",
    "            Q2=Q2+1\n",
    "            Q2_list.append(point)\n",
    "        elif point[1]<0:\n",
    "            Q3=Q3+1\n",
    "            Q3_list.append(point)\n",
    "\n",
    "print(\"Q1: {}, Q2: {}, Q3: {}, Q4: {}\".format(Q1,Q2,Q3,Q4))\n",
    "print(\"Q1: {}, Q2: {}, Q3: {}, Q4: {}\".format(Q1_list,Q2_list,Q3_list,Q4_list))"
   ]
  },
  {
   "cell_type": "markdown",
   "metadata": {},
   "source": [
    "#### 3. Find the point closest to the center. Calculate its distance to the center. \n",
    "Take into account that there might be more than one point at the minimum distance to the center.\n",
    "\n",
    "**Hint**: Use the Euclidean distance. You can find more information about it [here](https://en.wikipedia.org/wiki/Euclidean_distance).  \n",
    "**Hint**: Defining a function that calculates the distance to the center can help."
   ]
  },
  {
   "cell_type": "markdown",
   "metadata": {},
   "source": [
    "#### Solution A"
   ]
  },
  {
   "cell_type": "code",
   "execution_count": 37,
   "metadata": {},
   "outputs": [
    {
     "name": "stdout",
     "output_type": "stream",
     "text": [
      "[6.4031242374328485, 2.0, 8.06225774829855, 3.1622776601683795, 3.605551275463989, 6.4031242374328485, 3.605551275463989, 8.602325267042627, 8.602325267042627, 2.8284271247461903, 6.4031242374328485, 2.0, 8.06225774829855, 3.1622776601683795, 3.605551275463989, 6.4031242374328485, 3.605551275463989, 8.602325267042627, 8.602325267042627, 2.8284271247461903, 12.727922061357855, 12.041594578792296]\n",
      "2.0\n"
     ]
    }
   ],
   "source": [
    "distances=[]\n",
    "\n",
    "def distance(point):\n",
    "    point_nemo=(0,0)\n",
    "    distance_point=((point[0]-point_nemo[0])**2+(point[1]-point_nemo[1])**2)**0.5\n",
    "    #print(distance_point)\n",
    "    return distance_point\n",
    "\n",
    "for point in points:\n",
    "    dis=distance(point)\n",
    "    distances.append(dis)\n",
    "\n",
    "#print(sorted(distances))\n",
    "print((distances))\n",
    "print(min(distances))\n"
   ]
  },
  {
   "cell_type": "code",
   "execution_count": 32,
   "metadata": {},
   "outputs": [
    {
     "name": "stdout",
     "output_type": "stream",
     "text": [
      "The minimum distances are [2.0, 2.0].\n"
     ]
    }
   ],
   "source": [
    "min_distances=[]\n",
    "for minimum in distances: \n",
    "    if minimum==min(distances):\n",
    "        min_distances.append(minimum)\n",
    "        \n",
    "print(\"The minimum distances are {}.\".format(min_distances))"
   ]
  },
  {
   "cell_type": "markdown",
   "metadata": {},
   "source": [
    "#### Solution B"
   ]
  },
  {
   "cell_type": "code",
   "execution_count": 56,
   "metadata": {},
   "outputs": [
    {
     "name": "stdout",
     "output_type": "stream",
     "text": [
      "{(4, 5): 6.4031242374328485, (0, 2): 2.0, (4, 7): 8.06225774829855, (1, -3): 3.1622776601683795, (3, -2): 3.605551275463989, (3, 2): 3.605551275463989, (5, 7): 8.602325267042627, (-5, 7): 8.602325267042627, (2, 2): 2.8284271247461903, (-4, 5): 6.4031242374328485, (0, -2): 2.0, (-4, 7): 8.06225774829855, (-1, 3): 3.1622776601683795, (-3, 2): 3.605551275463989, (-4, -5): 6.4031242374328485, (9, 9): 12.727922061357855, (-8, -9): 12.041594578792296}\n",
      "Following points are closest to the center: [(0, 2), (0, -2)], with a distance of 2.0.\n"
     ]
    }
   ],
   "source": [
    "\n",
    "dic_distances={}\n",
    "index=0\n",
    "\n",
    "for point in points:\n",
    "    #for dis in distances:\n",
    "    dic_distances[point]=distances[index]\n",
    "    index=index+1\n",
    "\n",
    "print(dic_distances)\n",
    "\n",
    "min_distances2=[]\n",
    "\n",
    "for key in dic_distances.items(): \n",
    "    #print(key[1])\n",
    "    minimum=key[1]\n",
    "    if minimum==min(distances):\n",
    "        min_distances2.append(key[0])\n",
    "        \n",
    "print(\"Following points are closest to the center: {}, with a distance of {}.\".format(min_distances2,min(distances)))"
   ]
  },
  {
   "cell_type": "code",
   "execution_count": 46,
   "metadata": {},
   "outputs": [
    {
     "name": "stdout",
     "output_type": "stream",
     "text": [
      "6.4031242374328485\n"
     ]
    }
   ],
   "source": [
    "print(dic_distances[(4, 5)])"
   ]
  },
  {
   "cell_type": "markdown",
   "metadata": {},
   "source": [
    "#### 4. If the archery target has a radius of 9, calculate the number of arrows that won't hit the target. \n",
    "**Hint**: Use the function created in step 3. "
   ]
  },
  {
   "cell_type": "code",
   "execution_count": 47,
   "metadata": {},
   "outputs": [
    {
     "name": "stdout",
     "output_type": "stream",
     "text": [
      "Successfull shots are: [6.4031242374328485, 2.0, 8.06225774829855, 3.1622776601683795, 3.605551275463989, 6.4031242374328485, 3.605551275463989, 8.602325267042627, 8.602325267042627, 2.8284271247461903, 6.4031242374328485, 2.0, 8.06225774829855, 3.1622776601683795, 3.605551275463989, 6.4031242374328485, 3.605551275463989, 8.602325267042627, 8.602325267042627, 2.8284271247461903]\n",
      "Not successfull shots are: [12.727922061357855, 12.041594578792296]\n",
      "20 shots were successful!\n"
     ]
    }
   ],
   "source": [
    "missed_arrows=[]\n",
    "successful_arrows=[]\n",
    "for point in points:\n",
    "    dis=distance(point)\n",
    "    if dis<=9:\n",
    "        successful_arrows.append(dis)\n",
    "    elif dis>9:\n",
    "        missed_arrows.append(dis)\n",
    "print(\"Successfull shots are: {}\".format(successful_arrows))\n",
    "print(\"Not successfull shots are: {}\".format(missed_arrows))\n",
    "print(\"{} shots were successful!\".format(len(successful_arrows)))"
   ]
  },
  {
   "cell_type": "code",
   "execution_count": 46,
   "metadata": {},
   "outputs": [
    {
     "name": "stdout",
     "output_type": "stream",
     "text": [
      "Successfull shots are: [(4, 5), (0, 2), (4, 7), (1, -3), (3, -2), (4, 5), (3, 2), (5, 7), (-5, 7), (2, 2), (-4, 5), (0, -2), (-4, 7), (-1, 3), (-3, 2), (-4, -5), (-3, 2), (5, 7), (5, 7), (2, 2)]\n",
      "Not successfull shots are: [(9, 9), (-8, -9)]\n",
      "20 shots were successful!\n"
     ]
    }
   ],
   "source": [
    "missed_arrows=[]\n",
    "successful_arrows=[]\n",
    "for point in points:\n",
    "    dis=distance(point)\n",
    "    if dis<=9:\n",
    "        successful_arrows.append(point)\n",
    "    elif dis>9:\n",
    "        missed_arrows.append(point)\n",
    "print(\"Successfull shots are: {}\".format(successful_arrows))\n",
    "print(\"Not successfull shots are: {}\".format(missed_arrows))\n",
    "print(\"{} shots were successful!\".format(len(successful_arrows)))"
   ]
  },
  {
   "cell_type": "code",
   "execution_count": null,
   "metadata": {},
   "outputs": [],
   "source": []
  }
 ],
 "metadata": {
  "kernelspec": {
   "display_name": "Python 3",
   "language": "python",
   "name": "python3"
  },
  "language_info": {
   "codemirror_mode": {
    "name": "ipython",
    "version": 3
   },
   "file_extension": ".py",
   "mimetype": "text/x-python",
   "name": "python",
   "nbconvert_exporter": "python",
   "pygments_lexer": "ipython3",
   "version": "3.8.3"
  }
 },
 "nbformat": 4,
 "nbformat_minor": 2
}
