{
 "cells": [
  {
   "cell_type": "markdown",
   "metadata": {},
   "source": [
    "<img src=\"https://bit.ly/2VnXWr2\" width=\"100\" align=\"left\">"
   ]
  },
  {
   "cell_type": "markdown",
   "metadata": {},
   "source": [
    "# Temperature Sensor\n",
    "\n",
    "There is a temperature sensor in the processor of your company's server. The company wants to analyze the data provided by the sensor to decide if they should change the cooling system for a better one. As changing the cooling system is expensive and you are an excellent data analyst, you can't make a decision without basis.\n",
    "\n",
    "## Tools\n",
    "You don't necessarily need to use all the tools. Maybe you opt to use some of them or completely different ones, they are given to help you shape the exercise. Programming exercises can be solved in many different ways.\n",
    "1. Data structures: **lists**\n",
    "2. Loops: **list comprehension**\n",
    "3. Functions: **min, max, print, len**\n",
    "4. Conditional statements: **if-elif-else**\n",
    "\n",
    "## Tasks\n",
    "The temperatures measured throughout the 24 hours of a day are:"
   ]
  },
  {
   "cell_type": "code",
   "execution_count": 67,
   "metadata": {},
   "outputs": [],
   "source": [
    "temperatures_C = [33, 66, 65, 0, 59, 60, 62, 64, 70, 76, 80, 81, 80, 83, 90, 79, 61, 53, 50, 49, 53, 48, 45, 39]"
   ]
  },
  {
   "cell_type": "markdown",
   "metadata": {},
   "source": [
    "The first element of the list is the temperature at 12am, the second element is the temperature at 1am, and so on. \n",
    "\n",
    "The company has decided that if one of the following events occurs, then the cooling system needs to be replaced for a new one to avoid damaging the processor.\n",
    "* More than 4 temperatures are greater than or equal to 70ºC.\n",
    "* Any temperature is above 80ºC.\n",
    "* The average temperature exceeds 65ºC.\n",
    "\n",
    "Follow the steps so that you can make the decision.\n",
    "\n",
    "#### 1. Find the minimum temperature of the day and store it in a variable."
   ]
  },
  {
   "cell_type": "code",
   "execution_count": 32,
   "metadata": {},
   "outputs": [
    {
     "name": "stdout",
     "output_type": "stream",
     "text": [
      "0\n"
     ]
    }
   ],
   "source": [
    "min_temp=min(temperatures_C)\n",
    "print(min_temp)"
   ]
  },
  {
   "cell_type": "markdown",
   "metadata": {},
   "source": [
    "#### 2. Find the maximum temperature of the day and store it in a variable."
   ]
  },
  {
   "cell_type": "code",
   "execution_count": 33,
   "metadata": {},
   "outputs": [
    {
     "name": "stdout",
     "output_type": "stream",
     "text": [
      "90\n"
     ]
    }
   ],
   "source": [
    "max_temp=max(temperatures_C)\n",
    "print(max_temp)"
   ]
  },
  {
   "cell_type": "markdown",
   "metadata": {},
   "source": [
    "#### 3. Create a list with the temperatures that are greater than or equal to 70ºC. Store it in a variable."
   ]
  },
  {
   "cell_type": "code",
   "execution_count": 40,
   "metadata": {},
   "outputs": [
    {
     "name": "stdout",
     "output_type": "stream",
     "text": [
      "[76, 80, 81, 80, 83, 90, 79]\n"
     ]
    }
   ],
   "source": [
    "temp_75=[]\n",
    "for i in temperatures_C:\n",
    "    if i>=75:\n",
    "        temp_75.append(i)\n",
    "    \n",
    "print(temp_75)"
   ]
  },
  {
   "cell_type": "markdown",
   "metadata": {},
   "source": [
    "#### 4. Find the average temperature of the day and store it in a variable."
   ]
  },
  {
   "cell_type": "code",
   "execution_count": 35,
   "metadata": {},
   "outputs": [
    {
     "name": "stdout",
     "output_type": "stream",
     "text": [
      "The average temprature is: 60.25\n",
      "The varianz is: 371.9375\n",
      "The standard deviation is: 19.285681216902866\n"
     ]
    }
   ],
   "source": [
    "num=0\n",
    "\n",
    "mean=sum(temperatures_C)/len(temperatures_C)\n",
    "print(\"The average temprature is: {}\".format(mean))\n",
    "\n",
    "for temp in temperatures_C:\n",
    "    num+=(temp-mean)**2\n",
    "    #print(num)\n",
    "\n",
    "varianz=num/len(temperatures_C)\n",
    "print(\"The varianz is: {}\".format(varianz))\n",
    "\n",
    "standard_deviation=varianz**0.5\n",
    "print(\"The standard deviation is: {}\".format(standard_deviation))"
   ]
  },
  {
   "cell_type": "markdown",
   "metadata": {},
   "source": [
    "#### 5. Imagine that there was a sensor failure at 3am and the data for that specific hour was not recorded. How would you estimate the missing value? Replace the current value of the list at 3am for an estimation. "
   ]
  },
  {
   "cell_type": "code",
   "execution_count": 64,
   "metadata": {},
   "outputs": [
    {
     "name": "stdout",
     "output_type": "stream",
     "text": [
      "The average temperature is: 61.71875\n",
      "[33, 66, 65, 61.71875, 59, 60, 62, 64, 70, 76, 80, 81, 80, 83, 90, 79, 61, 53, 50, 49, 53, 48, 45, 39]\n"
     ]
    }
   ],
   "source": [
    "mean=sum(temperatures_C)/len(temperatures_C)-1 #excluding 0\n",
    "print(\"The average temperature is: {}\".format(mean))\n",
    "\n",
    "temperatures_C2=temperatures_C\n",
    "temperatures_C2[3]=mean\n",
    "\n",
    "print(temperatures_C2)"
   ]
  },
  {
   "cell_type": "markdown",
   "metadata": {},
   "source": [
    "#### 6. Bonus: the maintenance staff is from the United States and does not understand the international metric system. Help them by converting the temperatures from Celsius to Fahrenheit.\n",
    "To know more about temperature conversion check this [link](https://en.wikipedia.org/wiki/Conversion_of_units_of_temperature).\n",
    "\n",
    "**Formula**: \n",
    "\n",
    "$F = 1.8 * C + 32$"
   ]
  },
  {
   "cell_type": "code",
   "execution_count": 53,
   "metadata": {},
   "outputs": [
    {
     "name": "stdout",
     "output_type": "stream",
     "text": [
      "[91.4, 150.8, 149.0, 138.65, 138.2, 140.0, 143.60000000000002, 147.2, 158.0, 168.8, 176.0, 177.8, 176.0, 181.4, 194.0, 174.20000000000002, 141.8, 127.4, 122.0, 120.2, 127.4, 118.4, 113.0, 102.2]\n"
     ]
    }
   ],
   "source": [
    "temperatures_f=[]\n",
    "for temp in temperatures_C:\n",
    "    f=1.8*temp+32\n",
    "    temperatures_f.append(f)\n",
    "\n",
    "print(temperatures_f)"
   ]
  },
  {
   "cell_type": "markdown",
   "metadata": {},
   "source": [
    "#### 7. Make a decision!\n",
    "Now it's time to make a decision taking into account what you have seen until now. \n",
    "\n",
    "Remember that if one of the following events occurs, then the cooling system needs to be replaced for a new one to avoid damaging the processor.\n",
    "* More than 4 temperatures are greater than or equal to 70ºC.\n",
    "* Any temperature is above 80ºC.\n",
    "* The average temperature exceeds 65ºC.\n",
    "\n",
    "#### To make your decision, check if any of the three conditions above is met. You might need to use some of the variables you created in steps 1 to 6. Print a message to show if the cooling system needs to be changed or not."
   ]
  },
  {
   "cell_type": "code",
   "execution_count": 65,
   "metadata": {},
   "outputs": [
    {
     "name": "stdout",
     "output_type": "stream",
     "text": [
      "Temperature is above 80C\n"
     ]
    }
   ],
   "source": [
    "temp_75=[]\n",
    "for temp in temperatures_C:\n",
    "    if temp>80:\n",
    "        print(\"Temperature is above 80C\")\n",
    "        break\n",
    "    elif mean>65: \n",
    "        print(\"The average temperature exceeds 65C\")\n",
    "        break\n",
    "    elif temp>=75:\n",
    "        temp_75.append(temp)\n",
    "        if len(temp_75)>4:\n",
    "            print(\"More than 4 temperatures are greater than or equal to 70C\")\n",
    "            break"
   ]
  },
  {
   "cell_type": "markdown",
   "metadata": {},
   "source": [
    "## Bonus\n",
    "\n",
    "The company has decided that the decision you made is not valid. They want you to analyze the data again but this time, the conditions that need to be met in order to change the cooling system are different.\n",
    "\n",
    "This time, if one of the following events occurs, then the cooling system needs to be replaced:\n",
    "* The temperature is greater than 70ºC during more than 4 consecutive hours.\n",
    "* Any temperature is above 80ºC.\n",
    "* The average temperature exceeds 65ºC.\n",
    "\n",
    "Follow the steps so that you can make the decision.\n",
    "\n",
    "#### 1. Create a list with the hours where the temperature is greater than 70ºC. Store it in a variable."
   ]
  },
  {
   "cell_type": "code",
   "execution_count": 70,
   "metadata": {},
   "outputs": [
    {
     "name": "stdout",
     "output_type": "stream",
     "text": [
      "{'8:00': 70, '9:00': 76, '10:00': 80, '11:00': 81, '12:00': 80, '13:00': 83, '14:00': 90, '15:00': 79}\n"
     ]
    }
   ],
   "source": [
    "temp_70={}\n",
    "start=0\n",
    "for temp in temperatures_C:\n",
    "    if temp>=70:\n",
    "        temp_70[str(start)+\":00\"]=temp\n",
    "        \n",
    "        start+=1\n",
    "    else:\n",
    "        start+=1\n",
    "\n",
    "print(temp_70)"
   ]
  },
  {
   "cell_type": "markdown",
   "metadata": {},
   "source": [
    "#### 2. Check if the list you created in step 1 has more than 4 consecutive hours. "
   ]
  },
  {
   "cell_type": "code",
   "execution_count": 48,
   "metadata": {},
   "outputs": [
    {
     "name": "stdout",
     "output_type": "stream",
     "text": [
      "More than 4 consecutive hours\n"
     ]
    }
   ],
   "source": [
    "if len(temp_70)>4:\n",
    "    print(\"More than 4 consecutive hours\")"
   ]
  },
  {
   "cell_type": "markdown",
   "metadata": {},
   "source": [
    "#### 3. Make the decision!\n",
    "To make your decision, check if any of the three conditions is met. Print a message to show if the cooling system needs to be changed or not."
   ]
  },
  {
   "cell_type": "code",
   "execution_count": 50,
   "metadata": {},
   "outputs": [
    {
     "name": "stdout",
     "output_type": "stream",
     "text": [
      "Please change cooling system (1)\n"
     ]
    }
   ],
   "source": [
    "temp_70=[]\n",
    "for temp in temperatures_C2:\n",
    "    if temp>80: \n",
    "        print(\"Please change cooling system (1)\")\n",
    "        break\n",
    "    elif mean>65: \n",
    "        print(\"Please change cooling system (2)\")\n",
    "        break\n",
    "    elif temp>=70:\n",
    "        temp_70.append(temp)\n",
    "        if len(temp_70)>4:\n",
    "            print(\"Please change cooling system (3)\")\n",
    "            break"
   ]
  },
  {
   "cell_type": "markdown",
   "metadata": {},
   "source": [
    "#### 4. Find the average value of the temperature lists (ºC and ºF). What is the relation between both average values?"
   ]
  },
  {
   "cell_type": "code",
   "execution_count": 78,
   "metadata": {},
   "outputs": [
    {
     "name": "stdout",
     "output_type": "stream",
     "text": [
      "The average temperature in C is: 60.25\n",
      "The average temperature in Fahrenheit is: 144.89374999999998\n",
      "143.45 C\n",
      "61.05208333333332 C\n"
     ]
    }
   ],
   "source": [
    "num=0\n",
    "\n",
    "mean_C=sum(temperatures_C)/len(temperatures_C)\n",
    "print(\"The average temperature in C is: {}\".format(mean_C))\n",
    "   \n",
    "num=0\n",
    "\n",
    "mean_f=sum(temperatures_f)/len(temperatures_f)\n",
    "print(\"The average temperature in Fahrenheit is: {}\".format(mean_f))\n",
    "\n",
    "print(mean_C*1.8+35, \"C\")\n",
    "\n",
    "print((mean_f-35)/1.8, \"C\") #maybe due to the different point zeros within Celsius & Fahrenheit"
   ]
  },
  {
   "cell_type": "markdown",
   "metadata": {},
   "source": [
    "#### 5. Find the standard deviation of the temperature lists (ºC and ºF). What is the relation between both standard deviations?"
   ]
  },
  {
   "cell_type": "code",
   "execution_count": 79,
   "metadata": {},
   "outputs": [
    {
     "name": "stdout",
     "output_type": "stream",
     "text": [
      "The varianz in C is: 374.0947265625\n",
      "The standard deviation in C is: 19.341528547726003\n",
      "The varianz in Fahrenheit is: 7613.487773437501\n",
      "The standard deviation in Fahrenheit is: 87.25530226546408\n"
     ]
    }
   ],
   "source": [
    "num=0\n",
    "\n",
    "mean_C=sum(temperatures_C)/len(temperatures_C)\n",
    "#print(\"The average temperature in C is: {}\".format(mean_C))\n",
    "\n",
    "for temp in temperatures_C:\n",
    "    num+=(temp-mean)**2\n",
    "    #print(num)\n",
    "\n",
    "varianz=num/len(temperatures_C)\n",
    "print(\"The varianz in C is: {}\".format(varianz))\n",
    "\n",
    "standard_deviation=varianz**0.5\n",
    "print(\"The standard deviation in C is: {}\".format(standard_deviation))\n",
    "   \n",
    "num=0\n",
    "\n",
    "mean_f=sum(temperatures_f)/len(temperatures_f)\n",
    "#print(\"The average temperature in Fahrenheit is: {}\".format(mean_f))\n",
    "\n",
    "for temp in temperatures_f:\n",
    "    num+=(temp-mean)**2\n",
    "    #print(num)\n",
    "\n",
    "varianz=num/len(temperatures_f)\n",
    "print(\"The varianz in Fahrenheit is: {}\".format(varianz))\n",
    "\n",
    "standard_deviation=varianz**0.5\n",
    "print(\"The standard deviation in Fahrenheit is: {}\".format(standard_deviation))"
   ]
  },
  {
   "cell_type": "code",
   "execution_count": null,
   "metadata": {},
   "outputs": [],
   "source": []
  }
 ],
 "metadata": {
  "kernelspec": {
   "display_name": "Python 3",
   "language": "python",
   "name": "python3"
  },
  "language_info": {
   "codemirror_mode": {
    "name": "ipython",
    "version": 3
   },
   "file_extension": ".py",
   "mimetype": "text/x-python",
   "name": "python",
   "nbconvert_exporter": "python",
   "pygments_lexer": "ipython3",
   "version": "3.8.3"
  }
 },
 "nbformat": 4,
 "nbformat_minor": 2
}
