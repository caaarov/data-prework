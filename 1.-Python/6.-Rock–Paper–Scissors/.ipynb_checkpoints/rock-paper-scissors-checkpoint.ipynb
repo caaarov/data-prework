{
 "cells": [
  {
   "cell_type": "markdown",
   "metadata": {},
   "source": [
    "<img src=\"https://bit.ly/2VnXWr2\" width=\"100\" align=\"left\">"
   ]
  },
  {
   "cell_type": "markdown",
   "metadata": {},
   "source": [
    "# Rock, Paper & Scissors\n",
    "\n",
    "Let's play the famous game against our computer. You can check the rules [here](https://en.wikipedia.org/wiki/Rock%E2%80%93paper%E2%80%93scissors). \n",
    "\n",
    "## Task\n",
    "Create a program that imitates the playability of the well known game of rock, paper, scissors. Follow the guidelines provided.\n",
    "\n",
    "## Tools\n",
    "1. Loop: **for/while**\n",
    "2. Functions: **input(), print()...**\n",
    "3. Conditional statements: **if, elif, else**\n",
    "4. Definition of functions. Modular programming\n",
    "5. Import modules\n",
    "\n",
    "**To solve this challenge, the use of functions is recommended.**\n",
    "\n",
    "#### 1. Import the choice function of the random module."
   ]
  },
  {
   "cell_type": "code",
   "execution_count": 14,
   "metadata": {},
   "outputs": [],
   "source": [
    "import random"
   ]
  },
  {
   "cell_type": "markdown",
   "metadata": {},
   "source": [
    "#### 2. Create a list that includes the 3 possible gesture options of the game: 'rock', 'paper' or 'scissors'. Store the list in a variable called `gestures`."
   ]
  },
  {
   "cell_type": "code",
   "execution_count": 10,
   "metadata": {},
   "outputs": [],
   "source": [
    "gestures=[\"rock\",\"paper\",\"scissors\"]"
   ]
  },
  {
   "cell_type": "markdown",
   "metadata": {},
   "source": [
    "#### 3. Create a variable called `n_rounds` to store the maximum number of rounds to play in a game. \n",
    "Remember that the number of rounds must be odd: 1, 3, 5, ..."
   ]
  },
  {
   "cell_type": "code",
   "execution_count": 9,
   "metadata": {},
   "outputs": [
    {
     "name": "stdout",
     "output_type": "stream",
     "text": [
      "Please enter number of rounds: 6\n",
      "Please enter an odd number.\n",
      "Please enter number of rounds: 6\n",
      "Please enter an odd number.\n",
      "Please enter number of rounds: 6\n",
      "Please enter an odd number.\n",
      "Please enter number of rounds: 5\n"
     ]
    }
   ],
   "source": [
    "n_rounds=int(input(\"Please enter number of rounds: \"))\n",
    "\n",
    "while n_rounds%2==0:\n",
    "    print(\"Please enter an odd number.\")\n",
    "    n_rounds=int(input(\"Please enter number of rounds: \"))"
   ]
  },
  {
   "cell_type": "markdown",
   "metadata": {},
   "source": [
    "#### 4. Create a variable called `rounds_to_win` to store the number of rounds that a player must win to win the game.\n",
    "**Hint**: the value stored in `rounds_to_win` depends on the value of `n_rounds`. "
   ]
  },
  {
   "cell_type": "code",
   "execution_count": 7,
   "metadata": {},
   "outputs": [
    {
     "name": "stdout",
     "output_type": "stream",
     "text": [
      "Rounds to win: 3\n"
     ]
    }
   ],
   "source": [
    "rounds_to_win=round(n_rounds/2)+1\n",
    "print(\"Rounds to win: {}\".format(rounds_to_win))"
   ]
  },
  {
   "cell_type": "markdown",
   "metadata": {},
   "source": [
    "#### 5. Create two variables to store the number of rounds that the computer and the player have won. Call these variables `cpu_score` and `player_score`."
   ]
  },
  {
   "cell_type": "code",
   "execution_count": null,
   "metadata": {},
   "outputs": [],
   "source": [
    "cpu_score=0\n",
    "player_score=0"
   ]
  },
  {
   "cell_type": "markdown",
   "metadata": {},
   "source": [
    "#### 6. Define a function that randomly returns one of the 3 gesture options.\n",
    "You will use this function to simulate the gesture choice of the computer. "
   ]
  },
  {
   "cell_type": "code",
   "execution_count": 17,
   "metadata": {},
   "outputs": [
    {
     "name": "stdout",
     "output_type": "stream",
     "text": [
      "paper\n"
     ]
    }
   ],
   "source": [
    "def random_rps(list):\n",
    "    g=random.choice(list)\n",
    "    return g\n",
    "\n",
    "cpu_gesture=random_rps(gestures)\n",
    "print(cpu_gesture)"
   ]
  },
  {
   "cell_type": "markdown",
   "metadata": {},
   "source": [
    "#### 7. Define a function that asks the player which is the gesture he or she wants to show: 'rock', 'paper' or 'scissors'.\n",
    "The player should only be allowed to choose one of the 3 gesture options. If the player's choice is not rock, paper or scissors, keep asking until it is."
   ]
  },
  {
   "cell_type": "code",
   "execution_count": 32,
   "metadata": {},
   "outputs": [
    {
     "name": "stdout",
     "output_type": "stream",
     "text": [
      "Please choose rock, paper or scissors: roro\n",
      "Please choose only between rock, paper or scissors: iririri\n",
      "Please choose only between rock, paper or scissors: scissors\n",
      "scissors\n"
     ]
    }
   ],
   "source": [
    "def ask_p():\n",
    "    p=input(\"Please choose rock, paper or scissors: \").lower()\n",
    "\n",
    "    while p not in gestures:\n",
    "        p=input(\"Please choose only between rock, paper or scissors: \").lower()\n",
    "    \n",
    "    return p\n",
    "\n",
    "#player_choice=ask_p()\n",
    "#print(player_choice)"
   ]
  },
  {
   "cell_type": "markdown",
   "metadata": {},
   "source": [
    "#### 8. Define a function that checks who won a round. \n",
    "The function should return 0 if there is a tie, 1 if the computer wins and 2 if the player wins."
   ]
  },
  {
   "cell_type": "code",
   "execution_count": 43,
   "metadata": {},
   "outputs": [
    {
     "name": "stdout",
     "output_type": "stream",
     "text": [
      "1\n"
     ]
    }
   ],
   "source": [
    "def result(choice1, choice2): #choice1=Player, choice2=CPU\n",
    "    if choice1==\"rock\":\n",
    "        if choice2==\"paper\":\n",
    "            r=1\n",
    "        elif choice2==\"scissors\":\n",
    "            r=2\n",
    "            \n",
    "    elif choice1==\"paper\":\n",
    "        if choice2==\"rock\":\n",
    "            r=2\n",
    "        elif choice2==\"scissors\":\n",
    "            r=1\n",
    "            \n",
    "    elif choice1==\"scissors\":\n",
    "        if choice2==\"rock\":\n",
    "            r=1\n",
    "        elif choice2==\"paper\":\n",
    "            r=2\n",
    "            \n",
    "    elif choice1==choice2:\n",
    "        r=0\n",
    "        \n",
    "    return r\n",
    "\n",
    "r=result(\"scissors\", \"rock\")\n",
    "print(r)"
   ]
  },
  {
   "cell_type": "markdown",
   "metadata": {},
   "source": [
    "#### 9. Define a function that prints the choice of the computer, the choice of the player and a message that announces who won the current round. \n",
    "You should also use this function to update the variables that count the number of rounds that the computer and the player have won. The score of the winner increases by one point. If there is a tie, the score does not increase."
   ]
  },
  {
   "cell_type": "code",
   "execution_count": 37,
   "metadata": {},
   "outputs": [
    {
     "name": "stdout",
     "output_type": "stream",
     "text": [
      "The player chose: Scissor\n",
      "The computer chose: Rock\n",
      "Tie\n",
      "Rounds left: 4\n"
     ]
    }
   ],
   "source": [
    "def choices(p_choice, cpu_choice, player_score, cpu_score, r, n_rounds):\n",
    "    print(\"The player chose: {}\".format(p_choice))\n",
    "    print(\"The computer chose: {}\".format(cpu_choice))   \n",
    "    \n",
    "    if r==2:\n",
    "        player_score+=1\n",
    "        print(\"Player score: {}\".format(player_score))\n",
    "        n_rounds=n_rounds-1\n",
    "    elif r==1:\n",
    "        cpu_score+=1\n",
    "        print(\"Comupter score: {}\".format(cpu_score))\n",
    "        n_rounds=n_rounds-1\n",
    "    elif r==0:\n",
    "        print(\"Tie\")\n",
    "        n_rounds=n_rounds-1\n",
    "    print(\"Rounds left: {}\".format(n_rounds))\n",
    "    \n",
    "    return player_score, cpu_score, n_rounds\n",
    "\n",
    "player_score, cpu_score, n_rounds=choices(\"Scissor\", \"Rock\", 0,0, 0, 5)"
   ]
  },
  {
   "cell_type": "markdown",
   "metadata": {},
   "source": [
    "#### 10. Now it's time to code the execution of the game using the functions and variables you defined above. \n",
    "\n",
    "First, create a loop structure that repeats while no player reaches the minimum score necessary to win and the number of rounds is less than the maximum number of rounds to play in a game.  \n",
    "\n",
    "Inside the loop, use the functions and variables above to create the execution of a round: ask for the player's choice, generate the random choice of the computer, show the round results, update the scores, etc. "
   ]
  },
  {
   "cell_type": "code",
   "execution_count": 98,
   "metadata": {},
   "outputs": [
    {
     "name": "stdout",
     "output_type": "stream",
     "text": [
      "Please enter number of rounds: 5\n",
      "Rounds to win: 3\n",
      "Please choose rock, paper or scissors: rock\n",
      "The player chose: rock\n",
      "The computer chose: scissors\n",
      "\n",
      "Player won\n",
      "Player score: 1\n",
      "Comupter score: 0\n",
      "\n",
      "Rounds left: 4\n",
      "\n",
      "Please choose rock, paper or scissors: rock\n",
      "The player chose: rock\n",
      "The computer chose: paper\n",
      "\n",
      "Computer won\n",
      "Player score: 1\n",
      "Comupter score: 1\n",
      "\n",
      "Rounds left: 3\n",
      "\n",
      "Please choose rock, paper or scissors: rock\n",
      "The player chose: rock\n",
      "The computer chose: paper\n",
      "\n",
      "Computer won\n",
      "Player score: 1\n",
      "Comupter score: 2\n",
      "\n",
      "Rounds left: 2\n",
      "\n",
      "Please choose rock, paper or scissors: rock\n",
      "The player chose: rock\n",
      "The computer chose: paper\n",
      "\n",
      "Computer won\n",
      "Player score: 1\n",
      "Comupter score: 3\n",
      "\n",
      "Rounds left: 1\n",
      "\n",
      "Game finished\n",
      "\n",
      "Computer won\n"
     ]
    }
   ],
   "source": [
    "import random\n",
    "\n",
    "gestures=[\"rock\",\"paper\",\"scissors\"]\n",
    "cpu_score=0\n",
    "player_score=0\n",
    "\n",
    "##function that asks the player which is the gesture he or she wants to show\n",
    "def ask_p():\n",
    "    p=input(\"Please choose rock, paper or scissors: \").lower()\n",
    "\n",
    "    while p not in gestures:\n",
    "        p=input(\"Please choose only between rock, paper or scissors: \\n\").lower()\n",
    "    \n",
    "    return p\n",
    "\n",
    "##function that randomly returns one of the 3 gesture options\n",
    "def random_rps(list):\n",
    "    g=random.choice(list)\n",
    "    return g\n",
    "\n",
    "##function that checks who won a round\n",
    "def result(choice1, choice2): #choice1=Player, choice2=CPU\n",
    "    #print(choice1, choice2)\n",
    "    if choice1==choice2:\n",
    "        r=0\n",
    "        return r\n",
    "    \n",
    "    elif choice1==\"rock\":\n",
    "        if choice2==\"paper\":\n",
    "            r=1\n",
    "            return r\n",
    "        elif choice2==\"scissors\":\n",
    "            r=2\n",
    "            return r\n",
    "            \n",
    "    elif choice1==\"paper\":\n",
    "        if choice2==\"rock\":\n",
    "            r=2\n",
    "            return r\n",
    "        elif choice2==\"scissors\":\n",
    "            r=1\n",
    "            return r\n",
    "            \n",
    "    elif choice1==\"scissors\":\n",
    "        if choice2==\"rock\":\n",
    "            r=1\n",
    "            return r\n",
    "        elif choice2==\"paper\":\n",
    "            r=2\n",
    "            return r\n",
    "        \n",
    "    \n",
    "##Name winner    \n",
    "def winner(player_score, cpu_score):\n",
    "    if player_score==cpu_score:\n",
    "        print(\"Tie\")\n",
    "    elif player_score>cpu_score:\n",
    "        print(\"Player won\")\n",
    "    elif player_score<cpu_score:\n",
    "        print(\"Computer won\")\n",
    "\n",
    "##function that prints the choice of the computer, the choice of the player \n",
    "##and a message that announces who won the current round\n",
    "def choices(p_choice, cpu_choice, player_score, cpu_score, r, n_rounds):\n",
    "    print(\"The player chose: {}\".format(p_choice))\n",
    "    print(\"The computer chose: {}\\n\".format(cpu_choice))   \n",
    "    \n",
    "    if r==2:\n",
    "        player_score+=1\n",
    "        print(\"Player won\")\n",
    "        print(\"Player score: {}\".format(player_score))\n",
    "        print(\"Comupter score: {}\\n\".format(cpu_score))\n",
    "        n_rounds=n_rounds-1\n",
    "        \n",
    "    elif r==1:\n",
    "        cpu_score+=1\n",
    "        print(\"Computer won\")\n",
    "        print(\"Player score: {}\".format(player_score))\n",
    "        print(\"Comupter score: {}\\n\".format(cpu_score))\n",
    "        n_rounds=n_rounds-1\n",
    "        \n",
    "    elif r==0:\n",
    "        print(\"Tie\")\n",
    "        print(\"Player score: {}\".format(player_score))\n",
    "        print(\"Comupter score: {}\\n\".format(cpu_score))\n",
    "        n_rounds=n_rounds-1\n",
    "        \n",
    "    print(\"Rounds left: {}\\n\".format(n_rounds))\n",
    "    \n",
    "    return player_score, cpu_score, n_rounds\n",
    "\n",
    "##initiate game\n",
    "\n",
    "n_rounds=int(input(\"Please enter number of rounds: \"))\n",
    "\n",
    "while n_rounds%2==0:\n",
    "    print(\"Please enter an odd number.\")\n",
    "    n_rounds=int(input(\"Please enter number of rounds: \"))\n",
    "    \n",
    "rounds_to_win=int((n_rounds/2)+1)\n",
    "print(\"Rounds to win: {}\".format(rounds_to_win))\n",
    "\n",
    "##start game\n",
    "    \n",
    "while n_rounds>0 and player_score!=rounds_to_win and cpu_score!=rounds_to_win: \n",
    "    \n",
    "    p_choice=ask_p()\n",
    "    cpu_choice=random_rps(gestures)\n",
    "    \n",
    "    res_game=result(p_choice, cpu_choice)\n",
    "    #print(\"R: {}\".format(res_game))\n",
    "    \n",
    "    player_score, cpu_score, n_rounds=choices(p_choice, cpu_choice, player_score, cpu_score, res_game, n_rounds)\n",
    "\n",
    "print(\"Game finished\\n\")\n",
    "winner(player_score, cpu_score)"
   ]
  },
  {
   "cell_type": "markdown",
   "metadata": {},
   "source": [
    "#### 11. Print the winner of the game based on who won more rounds.\n",
    "Remember that the game might be tied. "
   ]
  },
  {
   "cell_type": "code",
   "execution_count": 81,
   "metadata": {},
   "outputs": [
    {
     "name": "stdout",
     "output_type": "stream",
     "text": [
      "Computer won\n"
     ]
    }
   ],
   "source": [
    "def winner(player_score, cpu_score):\n",
    "    if player_score==cpu_score:\n",
    "        print(\"Tie\")\n",
    "    elif player_score>cpu_score:\n",
    "        print(\"Player won\")\n",
    "    elif player_score<cpu_score:\n",
    "        print(\"Computer won\")\n",
    "        \n",
    "winner(player_score, cpu_score)"
   ]
  },
  {
   "cell_type": "markdown",
   "metadata": {},
   "source": [
    "# Bonus: Rock, Paper, Scissors, Lizard & Spock\n",
    "![](images/rpsls.jpg)\n",
    "\n",
    "In this challenge, you need to improve the previous game by adding two new options. To know more about the rules of the improved version of rock, paper, scissors, check this [link](http://www.samkass.com/theories/RPSSL.html). \n",
    "\n",
    "In addition, you will also need to improve how the game interacts with the player: the number of rounds to play, which must be an odd number, will be requested to the user until a valid number is entered. Define a new function to make that request.\n",
    "\n",
    "**Hint**: Try to reuse the code that you already coded in the previous challenge. If your code is efficient, this bonus will only consist of simple modifications to the original game."
   ]
  },
  {
   "cell_type": "code",
   "execution_count": null,
   "metadata": {},
   "outputs": [],
   "source": []
  }
 ],
 "metadata": {
  "kernelspec": {
   "display_name": "Python 3",
   "language": "python",
   "name": "python3"
  },
  "language_info": {
   "codemirror_mode": {
    "name": "ipython",
    "version": 3
   },
   "file_extension": ".py",
   "mimetype": "text/x-python",
   "name": "python",
   "nbconvert_exporter": "python",
   "pygments_lexer": "ipython3",
   "version": "3.8.3"
  }
 },
 "nbformat": 4,
 "nbformat_minor": 2
}
