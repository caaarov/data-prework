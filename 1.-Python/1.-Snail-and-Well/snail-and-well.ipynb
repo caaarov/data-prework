{
 "cells": [
  {
   "cell_type": "markdown",
   "metadata": {},
   "source": [
    "<img src=\"https://bit.ly/2VnXWr2\" width=\"100\" align=\"left\">"
   ]
  },
  {
   "cell_type": "markdown",
   "metadata": {},
   "source": [
    "# The Snail and the Well\n",
    "\n",
    "A snail falls at the bottom of a 125 cm well. Each day the snail rises 30 cm. But at night, while sleeping, slides 20 cm because the walls are wet. How many days does it take for the snail to escape the well?\n",
    "\n",
    "**Hint**: The snail gets out of the well when it surpasses the 125cm of height.\n",
    "\n",
    "## Tools\n",
    "\n",
    "1. Loop: **while**\n",
    "2. Conditional statements: **if-else**\n",
    "3. Function: **print()**\n",
    "\n",
    "## Tasks\n",
    "\n",
    "#### 1. Assign the challenge data to variables with representative names: `well_height`, `daily_distance`, `nightly_distance` and `snail_position`."
   ]
  },
  {
   "cell_type": "code",
   "execution_count": 27,
   "metadata": {},
   "outputs": [],
   "source": [
    "well_height=125\n",
    "daily_distance=30\n",
    "nightly_distance=20\n",
    "snail_position=0"
   ]
  },
  {
   "cell_type": "markdown",
   "metadata": {},
   "source": [
    "#### 2. Create a variable `days` to keep count of the days that pass until the snail escapes the well. "
   ]
  },
  {
   "cell_type": "code",
   "execution_count": 28,
   "metadata": {},
   "outputs": [],
   "source": [
    "days=0"
   ]
  },
  {
   "cell_type": "markdown",
   "metadata": {},
   "source": [
    "#### 3. Find the solution to the challenge using the variables defined above. "
   ]
  },
  {
   "cell_type": "markdown",
   "metadata": {},
   "source": [
    "#### 4. Print the solution."
   ]
  },
  {
   "cell_type": "code",
   "execution_count": 29,
   "metadata": {},
   "outputs": [
    {
     "name": "stdout",
     "output_type": "stream",
     "text": [
      "After a day: 30\n",
      "After sleep:  10\n",
      "After a day: 40\n",
      "After sleep:  20\n",
      "After a day: 50\n",
      "After sleep:  30\n",
      "After a day: 60\n",
      "After sleep:  40\n",
      "After a day: 70\n",
      "After sleep:  50\n",
      "After a day: 80\n",
      "After sleep:  60\n",
      "After a day: 90\n",
      "After sleep:  70\n",
      "After a day: 100\n",
      "After sleep:  80\n",
      "After a day: 110\n",
      "After sleep:  90\n",
      "After a day: 120\n",
      "After sleep:  100\n",
      "After a day: 130\n",
      "The snail escaped in 11 days!\n"
     ]
    }
   ],
   "source": [
    "while snail_position<=well_height: \n",
    "    snail_position=snail_position+daily_distance\n",
    "    print(\"After a day:\", snail_position)\n",
    "    days=days+1\n",
    "    if snail_position<well_height:\n",
    "        snail_position=snail_position-nightly_distance\n",
    "        print(\"After sleep: \", snail_position)\n",
    "    else:\n",
    "        break\n",
    "\n",
    "print(\"The snail escaped in {} days!\".format(days))"
   ]
  },
  {
   "cell_type": "markdown",
   "metadata": {},
   "source": [
    "## Bonus\n",
    "The distance traveled by the snail each day is now defined by a list.\n",
    "```\n",
    "advance_cm = [30, 21, 33, 77, 44, 45, 23, 45, 12, 34, 55]\n",
    "```\n",
    "On the first day, the snail rises 30cm but during the night it slides 20cm. On the second day, the snail rises 21cm but during the night it slides 20cm, and so on. \n",
    "\n",
    "#### 1. How many days does it take for the snail to escape the well?\n",
    "Follow the same guidelines as in the previous challenge.\n",
    "\n",
    "**Hint**: Remember that the snail gets out of the well when it surpasses the 125cm of height."
   ]
  },
  {
   "cell_type": "code",
   "execution_count": 43,
   "metadata": {},
   "outputs": [],
   "source": [
    "advance_cm = [30, 21, 33, 77, 44, 45, 23, 45, 12, 34, 55]\n",
    "days=0\n",
    "well_height=125\n",
    "nightly_distance=20\n",
    "snail_position=0"
   ]
  },
  {
   "cell_type": "code",
   "execution_count": 44,
   "metadata": {},
   "outputs": [
    {
     "name": "stdout",
     "output_type": "stream",
     "text": [
      "After sleep:  10\n",
      "After sleep:  11\n",
      "After sleep:  24\n",
      "After sleep:  81\n",
      "After sleep:  105\n",
      "The snail escaped in 6 days!\n"
     ]
    }
   ],
   "source": [
    "for cm in advance_cm:\n",
    "    snail_position=snail_position+(cm)\n",
    "    if snail_position<=well_height:\n",
    "        snail_position=snail_position-nightly_distance\n",
    "        print(\"After sleep: \", snail_position)\n",
    "        #print(snail_position,cm+nightly_distance)\n",
    "        days=days+1\n",
    "    else:\n",
    "        break\n",
    "        \n",
    "print(\"The snail escaped in {} days!\".format(days+1))"
   ]
  },
  {
   "cell_type": "code",
   "execution_count": 45,
   "metadata": {},
   "outputs": [
    {
     "name": "stdout",
     "output_type": "stream",
     "text": [
      "[10, 1, 13, 57, 24, 25, 3, 25, -8, 14, 35]\n"
     ]
    }
   ],
   "source": [
    "nightly_distance=20\n",
    "cm_24h=[]\n",
    "advance_cm = [30, 21, 33, 77, 44, 45, 23, 45, 12, 34, 55]\n",
    "for cm in advance_cm:\n",
    "    cm=cm-nightly_distance\n",
    "    cm_24h.append(cm)\n",
    "\n",
    "print(cm_24h)"
   ]
  },
  {
   "cell_type": "markdown",
   "metadata": {},
   "source": [
    "#### 2. What is its maximum displacement in one day? And its minimum? Calculate the displacement using only the travel distance of the days used to get out of the well. \n",
    "**Hint**: Remember that displacement means the total distance risen taking into account that the snail slides at night.  "
   ]
  },
  {
   "cell_type": "code",
   "execution_count": 62,
   "metadata": {},
   "outputs": [],
   "source": [
    "advance_cm = [30, 21, 33, 77, 44, 45, 23, 45, 12, 34, 55]\n",
    "days=0\n",
    "well_height=125\n",
    "nightly_distance=-20\n",
    "snail_position=0"
   ]
  },
  {
   "cell_type": "code",
   "execution_count": 63,
   "metadata": {},
   "outputs": [
    {
     "name": "stdout",
     "output_type": "stream",
     "text": [
      "[10, 1, 13, 57, 24, 25]\n"
     ]
    }
   ],
   "source": [
    "distance=[]\n",
    "for cm in advance_cm:\n",
    "    if snail_position<=well_height:\n",
    "        snail_position=snail_position+(cm+nightly_distance)\n",
    "        distance.append(cm+nightly_distance)\n",
    "        #days=days+1\n",
    "        #print(snail_position,cm+nightly_distance)\n",
    "    else:\n",
    "        break\n",
    "\n",
    "print(distance)"
   ]
  },
  {
   "cell_type": "code",
   "execution_count": 64,
   "metadata": {},
   "outputs": [
    {
     "name": "stdout",
     "output_type": "stream",
     "text": [
      "57\n",
      "1\n"
     ]
    }
   ],
   "source": [
    "print(max(distance))\n",
    "print(min(distance))\n"
   ]
  },
  {
   "cell_type": "markdown",
   "metadata": {},
   "source": [
    "#### 3. What is its average progress? Take into account the snail slides at night."
   ]
  },
  {
   "cell_type": "code",
   "execution_count": 65,
   "metadata": {},
   "outputs": [
    {
     "name": "stdout",
     "output_type": "stream",
     "text": [
      "130\n",
      "21.666666666666668\n"
     ]
    }
   ],
   "source": [
    "summe=0\n",
    "\n",
    "for daily_distance in distance:\n",
    "    summe=summe+daily_distance\n",
    "\n",
    "#print(summe)\n",
    "mean=summe/len(distance)\n",
    "print(mean)"
   ]
  },
  {
   "cell_type": "markdown",
   "metadata": {},
   "source": [
    "#### 4. What is the standard deviation of its displacement? Take into account the snail slides at night."
   ]
  },
  {
   "cell_type": "code",
   "execution_count": 66,
   "metadata": {},
   "outputs": [
    {
     "name": "stdout",
     "output_type": "stream",
     "text": [
      "The varianz is: 317.2222222222221\n",
      "The standard deviation is: 17.81073334319006\n"
     ]
    }
   ],
   "source": [
    "num=0\n",
    "\n",
    "for daily_distance in distance:\n",
    "    num+=(daily_distance-mean)**2\n",
    "    \n",
    "varianz=num/len(distance)\n",
    "print(\"The varianz is: {}\".format(varianz))\n",
    "\n",
    "standard_deviation=varianz**0.5\n",
    "print(\"The standard deviation is: {}\".format(standard_deviation))"
   ]
  },
  {
   "cell_type": "code",
   "execution_count": 68,
   "metadata": {},
   "outputs": [
    {
     "name": "stdout",
     "output_type": "stream",
     "text": [
      "38.09090909090909\n",
      "The varianz is: 294.44628099173553\n",
      "The standard deviation is: 17.159437082600803\n"
     ]
    }
   ],
   "source": [
    "summe=0\n",
    "\n",
    "for daily_distance in advance_cm:\n",
    "    summe=summe+daily_distance\n",
    "\n",
    "#print(summe)\n",
    "mean=summe/len(advance_cm)\n",
    "print(mean)\n",
    "\n",
    "num=0\n",
    "\n",
    "for daily_distance in advance_cm:\n",
    "    num+=(daily_distance-mean)**2\n",
    "    \n",
    "varianz=num/len(advance_cm)\n",
    "print(\"The varianz is: {}\".format(varianz))\n",
    "\n",
    "standard_deviation=varianz**0.5\n",
    "print(\"The standard deviation is: {}\".format(standard_deviation))"
   ]
  },
  {
   "cell_type": "code",
   "execution_count": null,
   "metadata": {},
   "outputs": [],
   "source": []
  }
 ],
 "metadata": {
  "kernelspec": {
   "display_name": "Python 3",
   "language": "python",
   "name": "python3"
  },
  "language_info": {
   "codemirror_mode": {
    "name": "ipython",
    "version": 3
   },
   "file_extension": ".py",
   "mimetype": "text/x-python",
   "name": "python",
   "nbconvert_exporter": "python",
   "pygments_lexer": "ipython3",
   "version": "3.8.3"
  }
 },
 "nbformat": 4,
 "nbformat_minor": 2
}
